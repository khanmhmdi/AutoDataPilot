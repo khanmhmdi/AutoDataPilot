{
 "cells": [
  {
   "cell_type": "code",
   "execution_count": 1,
   "id": "8cdfc897-ec9c-4f60-bd70-d4fc12b928c3",
   "metadata": {},
   "outputs": [],
   "source": [
    "import pandas as pd \n",
    "import numpy as np \n",
    "import matplotlib.pyplot as plt \n",
    "import seaborn as sns"
   ]
  },
  {
   "cell_type": "code",
   "execution_count": null,
   "id": "10a80fd1-e1c5-4000-afcc-3b1ce8f942dc",
   "metadata": {},
   "outputs": [],
   "source": [
    "chunk_size = 100000\n",
    "\n",
    "# Initialize an empty dataframe to hold the results\n",
    "df = pd.DataFrame()\n",
    "\n",
    "# Open the file in chunks and process each chunk\n",
    "for chunk in pd.read_csv('filename.csv', chunksize=chunk_size):\n",
    "    # Process the chunk\n",
    "    # For example, you could filter the data or perform some computation on it\n",
    "    processed_chunk = chunk.loc[chunk['column_name'] == 'some_value']\n",
    "    \n",
    "    # Append the processed chunk to the results dataframe\n",
    "    df = pd.concat([df, processed_chunk])\n",
    "\n",
    "# Clean up the results dataframe (optional)\n",
    "# For example, you could remove duplicates or null values\n",
    "df = df.drop_duplicates().dropna()\n",
    "\n",
    "# Output the results\n",
    "print(df.head())"
   ]
  },
  {
   "cell_type": "code",
   "execution_count": 15,
   "id": "54fe3285-ebfa-4620-a450-83a4402e2ef5",
   "metadata": {},
   "outputs": [],
   "source": [
    "class Data:\n",
    "    def __init__(self, PATH, chunk_size=10000 , RAM_SIZE = 4):\n",
    "        self.PATH = PATH\n",
    "        self.chunk_size = chunk_size\n",
    "        self.RAM_SIZE = 4\n",
    "    \n",
    "    def read_data(self):\n",
    "        df = pd.DataFrame()\n",
    "        for chunk in pd.read_csv(self.PATH, chunksize=self.chunk_size):\n",
    "            #TO_DO\n",
    "            df = pd.concat([df, chunk])\n",
    "        print(df.head())"
   ]
  },
  {
   "cell_type": "code",
   "execution_count": 16,
   "id": "5a187cbb-570f-4c12-89e4-14cc2ac8e9dd",
   "metadata": {},
   "outputs": [],
   "source": [
    "df = Data('/home/mkhanmhmdi/AutoDataPilot/Data/crypto-markets.csv')"
   ]
  },
  {
   "cell_type": "code",
   "execution_count": 17,
   "id": "da6c61a3-9038-4036-a3b2-7dc0b6db9bc6",
   "metadata": {},
   "outputs": [
    {
     "name": "stdout",
     "output_type": "stream",
     "text": [
      "      slug symbol     name        date  ranknow    open    high     low  \\\n",
      "0  bitcoin    BTC  Bitcoin  2013-04-28        1  135.30  135.98  132.10   \n",
      "1  bitcoin    BTC  Bitcoin  2013-04-29        1  134.44  147.49  134.00   \n",
      "2  bitcoin    BTC  Bitcoin  2013-04-30        1  144.00  146.93  134.05   \n",
      "3  bitcoin    BTC  Bitcoin  2013-05-01        1  139.00  139.89  107.72   \n",
      "4  bitcoin    BTC  Bitcoin  2013-05-02        1  116.38  125.60   92.28   \n",
      "\n",
      "    close  volume        market  close_ratio  spread  \n",
      "0  134.21     0.0  1.488567e+09       0.5438    3.88  \n",
      "1  144.54     0.0  1.603769e+09       0.7813   13.49  \n",
      "2  139.00     0.0  1.542813e+09       0.3843   12.88  \n",
      "3  116.99     0.0  1.298955e+09       0.2882   32.17  \n",
      "4  105.21     0.0  1.168517e+09       0.3881   33.32  \n"
     ]
    }
   ],
   "source": [
    "df.read_data()"
   ]
  },
  {
   "cell_type": "code",
   "execution_count": null,
   "id": "ab79a4ae-39d6-44ae-9f4f-99575f89e071",
   "metadata": {},
   "outputs": [],
   "source": [
    "import pandas as pd\n",
    "\n",
    "def remove_nan_values_chunked(df, chunk_size=1000):\n",
    "    # Replace all NaN values with None\n",
    "    df = df.where(pd.notnull(df), None)\n",
    "    \n",
    "    # Split the dataframe into chunks\n",
    "    chunks = pd.read_csv(df, chunksize=chunk_size)\n",
    "    \n",
    "    # Create an empty list to store the filtered chunks\n",
    "    filtered_chunks = []\n",
    "    \n",
    "    # Process each chunk\n",
    "    for chunk in chunks:\n",
    "        # Drop any rows with missing values\n",
    "        chunk = chunk.dropna()\n",
    "        \n",
    "        # Append the filtered chunk to the list\n",
    "        filtered_chunks.append(chunk)\n",
    "    \n",
    "    # Concatenate the filtered chunks back into a single dataframe\n",
    "    filtered_df = pd.concat(filtered_chunks)\n",
    "    \n",
    "    return filtered_df"
   ]
  }
 ],
 "metadata": {
  "kernelspec": {
   "display_name": "Python 3 (ipykernel)",
   "language": "python",
   "name": "python3"
  },
  "language_info": {
   "codemirror_mode": {
    "name": "ipython",
    "version": 3
   },
   "file_extension": ".py",
   "mimetype": "text/x-python",
   "name": "python",
   "nbconvert_exporter": "python",
   "pygments_lexer": "ipython3",
   "version": "3.9.13"
  }
 },
 "nbformat": 4,
 "nbformat_minor": 5
}
